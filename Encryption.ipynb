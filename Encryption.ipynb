{
  "nbformat": 4,
  "nbformat_minor": 0,
  "metadata": {
    "colab": {
      "provenance": [],
      "authorship_tag": "ABX9TyOdDjwcD9v5/oo0GSFWgpTM",
      "include_colab_link": true
    },
    "kernelspec": {
      "name": "python3",
      "display_name": "Python 3"
    },
    "language_info": {
      "name": "python"
    }
  },
  "cells": [
    {
      "cell_type": "markdown",
      "metadata": {
        "id": "view-in-github",
        "colab_type": "text"
      },
      "source": [
        "<a href=\"https://colab.research.google.com/github/Rordan1/Security-Tools/blob/main/Encryption.ipynb\" target=\"_parent\"><img src=\"https://colab.research.google.com/assets/colab-badge.svg\" alt=\"Open In Colab\"/></a>"
      ]
    },
    {
      "cell_type": "markdown",
      "source": [],
      "metadata": {
        "id": "t7SrEDgXxXWV"
      }
    },
    {
      "cell_type": "markdown",
      "source": [
        "\n",
        "#Choose file encryption / password hashing / key gen\n",
        "\n",
        "##file encryption\n",
        "\n",
        "0. tool\n",
        "*   openssl\n",
        "*   gpg\n",
        "\n",
        "1.   Algorithm\n",
        "\n",
        "*   md5\n",
        "*   sha256\n",
        "\n",
        "\n",
        "2.   Salt\n",
        "\n",
        "\n",
        "\n",
        "\n",
        "*   hmac\n",
        "\n",
        "\n",
        "3.  Pepper\n",
        "\n",
        "\n",
        "*   pbkdf2\n",
        "\n",
        "4. File Compression\n",
        "\n",
        "\n",
        "*   gzip\n",
        "*   tar\n",
        "\n",
        "\n",
        "## hashing passwords\n",
        "\n",
        "\n",
        "1.   hashing algorithm\n",
        ", , or\n",
        "\n",
        "*   bcrypt\n",
        "*   Argon2\n",
        "*   Scrypt\n",
        "\n",
        "\n",
        "\n",
        "\n",
        "##key gen\n",
        "\n",
        "\n",
        "1.   assymetric\n",
        "*   ssh-keygen\n",
        "\n",
        "2.   symetric\n",
        "openssl\n",
        "\n",
        "3. password or not\n",
        "\n",
        "\n",
        "*   asym: -N \"your_password_here\": Sets the password for the private key\n",
        "*  sym: -k \"your_password_here\": Sets the password for the key.\n",
        "\n",
        "\n",
        "\n",
        "\n",
        "\n",
        "-p option to add or change a passphrase for an existing SSH private key\n",
        "-t: Specifies the key type (in this case, RSA). \\\n",
        "-b: Specifies the key length (4096 bits is a common choice for RSA).\\\n",
        "-f: Specifies the filename for the key pair.\n",
        "\n",
        "\n",
        "\n",
        "\n",
        "\n",
        "\n",
        "\n"
      ],
      "metadata": {
        "id": "Pl8qfNvTrbWO"
      }
    },
    {
      "cell_type": "code",
      "source": [],
      "metadata": {
        "id": "Thp7ZP-cxeKI"
      },
      "execution_count": null,
      "outputs": []
    },
    {
      "cell_type": "code",
      "execution_count": null,
      "metadata": {
        "id": "3Jh7M9-vrVyd"
      },
      "outputs": [],
      "source": []
    }
  ]
}